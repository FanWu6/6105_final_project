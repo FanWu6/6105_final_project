{
 "cells": [
  {
   "cell_type": "markdown",
   "metadata": {},
   "source": [
    "# Tweets Classification and Clustering"
   ]
  },
  {
   "cell_type": "markdown",
   "metadata": {},
   "source": [
    "## Table of Contents\n",
    "1. [Libraries](#Libraries)\n",
    "2. [Merging the Tweets](#Merging-the-tweets-files-into-a-Mega-df.)\n",
    "3. [Text Classification](#Text-Classification): \n",
    "4. [Jaccard Similarity](#Jaccard-Similarity)\n",
    "5. [Clustered DF](#Clustered-DF)\n",
    "6. [KMeans](#KMeans-CLustering.)\n",
    "7. [AgglomerativeClustering](#AgglomerativeClustering)\n",
    "8. [Time Series Analysis](#Time-Series-Analysis)\n",
    "\n"
   ]
  },
  {
   "cell_type": "markdown",
   "metadata": {},
   "source": [
    "### Libraries"
   ]
  },
  {
   "cell_type": "code",
   "execution_count": 1,
   "metadata": {},
   "outputs": [
    {
     "name": "stderr",
     "output_type": "stream",
     "text": [
      "[nltk_data] Downloading package stopwords to /Users/wufan/nltk_data...\n",
      "[nltk_data]   Package stopwords is already up-to-date!\n",
      "[nltk_data] Downloading package wordnet to /Users/wufan/nltk_data...\n",
      "[nltk_data]   Package wordnet is already up-to-date!\n"
     ]
    }
   ],
   "source": [
    "import pandas as pd\n",
    "import numpy as np\n",
    "import seaborn as sns\n",
    "import matplotlib.pyplot as plt\n",
    "\n",
    "import csv\n",
    "import os\n",
    "import pandas as pd\n",
    "\n",
    "import numpy as np \n",
    "import pandas as pd\n",
    "import matplotlib.pyplot as plt\n",
    "import seaborn as sns\n",
    "import re\n",
    "\n",
    "from sklearn.model_selection import train_test_split\n",
    "import nltk\n",
    "nltk.download('stopwords')\n",
    "nltk.download('wordnet')\n",
    "from nltk.tokenize import RegexpTokenizer, WhitespaceTokenizer\n",
    "from nltk.stem import WordNetLemmatizer\n",
    "from nltk.corpus import stopwords\n",
    "import string\n",
    "from string import punctuation\n",
    "import collections\n",
    "from collections import Counter\n",
    "from sklearn.feature_extraction.text import CountVectorizer, TfidfVectorizer\n",
    "\n",
    "from sklearn.feature_extraction.text import CountVectorizer, TfidfTransformer\n",
    "from sklearn.metrics.pairwise import cosine_similarity\n",
    "\n",
    "\n",
    "from sklearn.metrics import jaccard_score\n",
    "import gc\n",
    "# remove warning: A value is trying to be set on a copy of a slice from a DataFrame\n",
    "pd.options.mode.chained_assignment = None  # default='warn'"
   ]
  },
  {
   "cell_type": "markdown",
   "metadata": {},
   "source": [
    "### Merging the tweets files into a Mega df."
   ]
  },
  {
   "cell_type": "code",
   "execution_count": 68,
   "metadata": {},
   "outputs": [],
   "source": [
    "# make one mega dataframe of all the tweets\n",
    "\n",
    "def pivoted_df(paths):\n",
    "    global dataframes\n",
    "    dataframes = []\n",
    "    for path in paths:\n",
    "        frame = pd.read_csv(path,lineterminator='\\n')\n",
    "        df = pd.DataFrame()\n",
    "        df['tweets'] = frame['tweet']\n",
    "        df['screen_name'] = frame['user_screen_name']\n",
    "        dataframes.append(df)\n",
    "        \n",
    "    mega = pd.concat(dataframes)\n",
    "    return mega"
   ]
  },
  {
   "cell_type": "code",
   "execution_count": 69,
   "metadata": {},
   "outputs": [],
   "source": [
    "# file_paths = ['G:/6105_final_project/hashtag_joebiden.csv','G:/6105_final_project/hashtag_trump.csv']\n",
    "# file_paths = ['G:/6105_final_project/hashtag_donaldtrump.csv']\n",
    "file_paths = ['/Users/wufan/Desktop/archive/hashtag_donaldtrump.csv','/Users/wufan/Desktop/archive/hashtag_joebiden.csv']"
   ]
  },
  {
   "cell_type": "code",
   "execution_count": 70,
   "metadata": {},
   "outputs": [
    {
     "data": {
      "text/plain": [
       "(1747805, 2)"
      ]
     },
     "execution_count": 70,
     "metadata": {},
     "output_type": "execute_result"
    }
   ],
   "source": [
    "# tweets_bowl_init = pivoted_df(file_paths)\n",
    "# tweets_bowl = tweets_bowl_init.loc[:200000, :]\n",
    "# del tweets_bowl_init\n",
    "tweets_bowl = pivoted_df(file_paths)\n",
    "gc.collect()\n",
    "tweets_bowl.shape\n"
   ]
  },
  {
   "cell_type": "markdown",
   "metadata": {},
   "source": [
    "Drop the rows which its tweets is null"
   ]
  },
  {
   "cell_type": "code",
   "execution_count": 72,
   "metadata": {},
   "outputs": [
    {
     "data": {
      "text/html": [
       "<div>\n",
       "<style scoped>\n",
       "    .dataframe tbody tr th:only-of-type {\n",
       "        vertical-align: middle;\n",
       "    }\n",
       "\n",
       "    .dataframe tbody tr th {\n",
       "        vertical-align: top;\n",
       "    }\n",
       "\n",
       "    .dataframe thead th {\n",
       "        text-align: right;\n",
       "    }\n",
       "</style>\n",
       "<table border=\"1\" class=\"dataframe\">\n",
       "  <thead>\n",
       "    <tr style=\"text-align: right;\">\n",
       "      <th></th>\n",
       "      <th>tweets</th>\n",
       "      <th>screen_name</th>\n",
       "    </tr>\n",
       "  </thead>\n",
       "  <tbody>\n",
       "    <tr>\n",
       "      <th>0</th>\n",
       "      <td>#Elecciones2020 | En #Florida: #JoeBiden dice ...</td>\n",
       "      <td>elsollatinonews</td>\n",
       "    </tr>\n",
       "    <tr>\n",
       "      <th>1</th>\n",
       "      <td>Usa 2020, Trump contro Facebook e Twitter: cop...</td>\n",
       "      <td>MediasetTgcom24</td>\n",
       "    </tr>\n",
       "    <tr>\n",
       "      <th>2</th>\n",
       "      <td>#Trump: As a student I used to hear for years,...</td>\n",
       "      <td>snarke</td>\n",
       "    </tr>\n",
       "    <tr>\n",
       "      <th>3</th>\n",
       "      <td>2 hours since last tweet from #Trump! Maybe he...</td>\n",
       "      <td>trumpytweeter</td>\n",
       "    </tr>\n",
       "    <tr>\n",
       "      <th>4</th>\n",
       "      <td>You get a tie! And you get a tie! #Trump ‘s ra...</td>\n",
       "      <td>Ranaabtar</td>\n",
       "    </tr>\n",
       "  </tbody>\n",
       "</table>\n",
       "</div>"
      ],
      "text/plain": [
       "                                              tweets      screen_name\n",
       "0  #Elecciones2020 | En #Florida: #JoeBiden dice ...  elsollatinonews\n",
       "1  Usa 2020, Trump contro Facebook e Twitter: cop...  MediasetTgcom24\n",
       "2  #Trump: As a student I used to hear for years,...           snarke\n",
       "3  2 hours since last tweet from #Trump! Maybe he...    trumpytweeter\n",
       "4  You get a tie! And you get a tie! #Trump ‘s ra...        Ranaabtar"
      ]
     },
     "execution_count": 72,
     "metadata": {},
     "output_type": "execute_result"
    }
   ],
   "source": [
    "tweets_bowl.dropna(subset=['tweets'],inplace=True)\n",
    "#if using AgglomerativeClustering, open this since data is so large that would make kernel collapsed\n",
    "# tweets_bowl = tweets_bowl.sample(frac=0.1)\n",
    "tweets_bowl.head()"
   ]
  },
  {
   "cell_type": "code",
   "execution_count": 73,
   "metadata": {},
   "outputs": [
    {
     "data": {
      "text/plain": [
       "(1747805, 2)"
      ]
     },
     "execution_count": 73,
     "metadata": {},
     "output_type": "execute_result"
    }
   ],
   "source": [
    "tweets_bowl.shape"
   ]
  },
  {
   "cell_type": "markdown",
   "metadata": {},
   "source": [
    "### Text Classification"
   ]
  },
  {
   "cell_type": "markdown",
   "metadata": {},
   "source": [
    "#### 1. Cleaning the tweets\n",
    "   lemmatization, tokenizing, removing stopwards, punctuations, hashtags and mentions"
   ]
  },
  {
   "cell_type": "code",
   "execution_count": 74,
   "metadata": {},
   "outputs": [
    {
     "data": {
      "text/html": [
       "<div>\n",
       "<style scoped>\n",
       "    .dataframe tbody tr th:only-of-type {\n",
       "        vertical-align: middle;\n",
       "    }\n",
       "\n",
       "    .dataframe tbody tr th {\n",
       "        vertical-align: top;\n",
       "    }\n",
       "\n",
       "    .dataframe thead th {\n",
       "        text-align: right;\n",
       "    }\n",
       "</style>\n",
       "<table border=\"1\" class=\"dataframe\">\n",
       "  <thead>\n",
       "    <tr style=\"text-align: right;\">\n",
       "      <th></th>\n",
       "      <th>tweets</th>\n",
       "      <th>screen_name</th>\n",
       "    </tr>\n",
       "  </thead>\n",
       "  <tbody>\n",
       "    <tr>\n",
       "      <th>0</th>\n",
       "      <td>elecciones2020  en florida joebiden dice que d...</td>\n",
       "      <td>elsollatinonews</td>\n",
       "    </tr>\n",
       "    <tr>\n",
       "      <th>1</th>\n",
       "      <td>usa 2020 trump contro facebook e twitter copro...</td>\n",
       "      <td>MediasetTgcom24</td>\n",
       "    </tr>\n",
       "    <tr>\n",
       "      <th>2</th>\n",
       "      <td>trump as a student i used to hear for years fo...</td>\n",
       "      <td>snarke</td>\n",
       "    </tr>\n",
       "    <tr>\n",
       "      <th>3</th>\n",
       "      <td>2 hours since last tweet from trump maybe he i...</td>\n",
       "      <td>trumpytweeter</td>\n",
       "    </tr>\n",
       "    <tr>\n",
       "      <th>4</th>\n",
       "      <td>you get a tie and you get a tie trump s rally ...</td>\n",
       "      <td>Ranaabtar</td>\n",
       "    </tr>\n",
       "  </tbody>\n",
       "</table>\n",
       "</div>"
      ],
      "text/plain": [
       "                                              tweets      screen_name\n",
       "0  elecciones2020  en florida joebiden dice que d...  elsollatinonews\n",
       "1  usa 2020 trump contro facebook e twitter copro...  MediasetTgcom24\n",
       "2  trump as a student i used to hear for years fo...           snarke\n",
       "3  2 hours since last tweet from trump maybe he i...    trumpytweeter\n",
       "4  you get a tie and you get a tie trump s rally ...        Ranaabtar"
      ]
     },
     "execution_count": 74,
     "metadata": {},
     "output_type": "execute_result"
    }
   ],
   "source": [
    "# # remove the hashtags, mentions and unwanted characters from the tweet texts\n",
    "def clean_text(df, text_field):\n",
    "    df[text_field] = df[text_field].str.lower()\n",
    "#     for i,v in df[text_field].items():\n",
    "#         print(i, v)\n",
    "#         re.sub(r\"(@[A-Za-z0-9]+)|([^0-9A-Za-z \\t])|(\\w+:\\/\\/\\S+)|^rt|http.+?\", '', v)\n",
    "    df[text_field] = df[text_field].apply(lambda elem: re.sub(r\"(@[A-Za-z0-9]+)|([^0-9A-Za-z \\t])|(\\w+:\\/\\/\\S+)|^rt|http.+?\", '', elem))  \n",
    "    return df\n",
    "\n",
    "clean_tweets = clean_text(tweets_bowl, 'tweets')\n",
    "clean_tweets.head()"
   ]
  },
  {
   "cell_type": "code",
   "execution_count": 75,
   "metadata": {},
   "outputs": [],
   "source": [
    "#remove stopwords, punctuations, lemmatize and tokenize word\n",
    "tokenizer = RegexpTokenizer(r'\\w+')\n",
    "lemmatizer = WordNetLemmatizer()\n",
    "stop = set(stopwords.words('english'))\n",
    "punctuation = list(string.punctuation) #already taken care of with the cleaning function.\n",
    "stop.update(punctuation)\n",
    "w_tokenizer = WhitespaceTokenizer()\n",
    "\n",
    "            \n",
    "def furnished(text):\n",
    "    final_text = []\n",
    "    for i in w_tokenizer.tokenize(text):\n",
    "#     for i in text.split():\n",
    "        if i.lower() not in stop:\n",
    "            word = lemmatizer.lemmatize(i)\n",
    "            final_text.append(word.lower())\n",
    "    return \" \".join(final_text)\n",
    "\n",
    "\n",
    "            \n",
    "tweets_bowl.tweets = tweets_bowl.tweets.apply(furnished)"
   ]
  },
  {
   "cell_type": "code",
   "execution_count": 76,
   "metadata": {},
   "outputs": [
    {
     "data": {
      "text/html": [
       "<div>\n",
       "<style scoped>\n",
       "    .dataframe tbody tr th:only-of-type {\n",
       "        vertical-align: middle;\n",
       "    }\n",
       "\n",
       "    .dataframe tbody tr th {\n",
       "        vertical-align: top;\n",
       "    }\n",
       "\n",
       "    .dataframe thead th {\n",
       "        text-align: right;\n",
       "    }\n",
       "</style>\n",
       "<table border=\"1\" class=\"dataframe\">\n",
       "  <thead>\n",
       "    <tr style=\"text-align: right;\">\n",
       "      <th></th>\n",
       "      <th>tweets</th>\n",
       "      <th>screen_name</th>\n",
       "    </tr>\n",
       "  </thead>\n",
       "  <tbody>\n",
       "    <tr>\n",
       "      <th>31963</th>\n",
       "      <td>joebiden</td>\n",
       "      <td>EdCorporis</td>\n",
       "    </tr>\n",
       "    <tr>\n",
       "      <th>854914</th>\n",
       "      <td>vignetta trump satira vignette elezioniamericane</td>\n",
       "      <td>Angelo_Ciola</td>\n",
       "    </tr>\n",
       "    <tr>\n",
       "      <th>661114</th>\n",
       "      <td>270 also number time ive thought election shou...</td>\n",
       "      <td>emckinney146</td>\n",
       "    </tr>\n",
       "    <tr>\n",
       "      <th>341004</th>\n",
       "      <td>seim 2020228 biden169 trump 141 salncak270 sei...</td>\n",
       "      <td>enpolitikTV</td>\n",
       "    </tr>\n",
       "    <tr>\n",
       "      <th>41891</th>\n",
       "      <td>infosec hopefully donaldtrump soon visiting</td>\n",
       "      <td>cosmicfirepeace</td>\n",
       "    </tr>\n",
       "  </tbody>\n",
       "</table>\n",
       "</div>"
      ],
      "text/plain": [
       "                                                   tweets      screen_name\n",
       "31963                                            joebiden       EdCorporis\n",
       "854914   vignetta trump satira vignette elezioniamericane     Angelo_Ciola\n",
       "661114  270 also number time ive thought election shou...     emckinney146\n",
       "341004  seim 2020228 biden169 trump 141 salncak270 sei...      enpolitikTV\n",
       "41891         infosec hopefully donaldtrump soon visiting  cosmicfirepeace"
      ]
     },
     "execution_count": 76,
     "metadata": {},
     "output_type": "execute_result"
    }
   ],
   "source": [
    "tweets_bowl.sample(5)"
   ]
  },
  {
   "cell_type": "markdown",
   "metadata": {},
   "source": [
    "#### 2. Defining the set of words.\n",
    "\n",
    "We got related words from https://relatedwords.org"
   ]
  },
  {
   "cell_type": "code",
   "execution_count": 77,
   "metadata": {},
   "outputs": [],
   "source": [
    "economy_related_words = '''agriculture infrastructure capitalism trading service sector technology  economical supply \n",
    "                          industrialism efficiency frugality retrenchment downsizing   credit debit value \n",
    "                         economize   save  economically\n",
    "                         economies sluggish rise   rising spending conserve trend \n",
    "                         low-management  decline   industry impact poor  \n",
    "                            profession    surplus   fall\n",
    "                         declining  accelerating interest sectors balance stability productivity increase rates\n",
    "                            pushing expanding stabilize  rate industrial borrowing struggling\n",
    "                           deficit predicted    increasing  data\n",
    "                          economizer analysts investment market-based economy   debt free enterprise\n",
    "                         medium  exchange metric savepoint scarcity capital bank company stockholder fund business  \n",
    "                         asset treasury tourism incomes contraction employment jobs upturn deflation  macroeconomics\n",
    "                         bankruptcies exporters hyperinflation dollar entrepreneurship upswing marketplace commerce devaluation \n",
    "                         quicksave deindustrialization stockmarket reflation downspin dollarization withholder bankroll venture capital\n",
    "                         mutual fund plan economy mortgage lender unemployment rate credit crunch central bank financial institution\n",
    "                         bank rate custom duties mass-production black-market developing-countries developing economic-growth gdp trade barter \n",
    "                         distribution downturn economist'''"
   ]
  },
  {
   "cell_type": "code",
   "execution_count": 78,
   "metadata": {},
   "outputs": [],
   "source": [
    "social_related_words = '''sociable, gregarious societal friendly society socialization political  sociality \n",
    "                        interpersonal  ethnic socially party welfare public community socialist societies development\n",
    "                            network humans socialism collective personal corporation social constructivism\n",
    "                        relations volition citizenship brute   attitude rights socio \n",
    "                        socioeconomic ethics civic communal marital  sociale socialized communities     \n",
    "                         policy   unions        \n",
    "                        institutions values     governmental   organizations jamboree \n",
    "                         festivity    fairness  support  care  \n",
    "                         sides   activism     unsocial psychosocial \n",
    "                        socializing psychological distributional  demographic  participation reunion \n",
    "                        partygoer partyism festive power network gala housewarming celebration counterparty   social-war\n",
    "                        particularist interactional ideational asocial'''"
   ]
  },
  {
   "cell_type": "code",
   "execution_count": 79,
   "metadata": {},
   "outputs": [],
   "source": [
    "culture_related_words  = ''' ethnicity heritage modernity spirituality marxismmaterial culture \n",
    "                           ethos nationality humanism romanticism civilisation traditionalism genetics\n",
    "                        kinship heredity marriage   indigenous  archeology  acculturate  \n",
    "                       ontogenesis viniculture modern clothes     rooted \n",
    "                       cicero societies history roots influence geography historical folk origins \n",
    "                       phenomenon teleology ancient aspects perspective liberalism nowadays community style unique prevalent describes \n",
    "                         today  origin   modernity beliefs  genre barbarian ethnic \n",
    "                       colonization cultural universal organization western-civilization structuralism  culture \n",
    "                       heathen pagan transculturation culture peasant classicist nativism anarchy ungrown philosophic cult  \n",
    "                       consciousness islamist bro-culture evolve cultic diaspora aftergrowth native cultural-relativism  \n",
    "                       mongolian cosmopolitan epistemology lifestyles diversity chauvinism westernization materialism vernacular \n",
    "                       homogeneity otherness holism tusculanae disputationes primitivism superficiality hedonism discourse\n",
    "                       puritanism modernism intellectualism  exclusiveness elitism  colonialism  \n",
    "                       pentecostalism paganism nationwide expansion rural  auxesis kimono \n",
    "                       culturize alethophobia nettlebed japanification  dongyi clannishness insularity hybridity\n",
    "                       westernisation foreignness worldview exclusionism enculturation ethnocentrism  confucianist vulgarization\n",
    "                       shintoism  westernism denominationalism    deracination\n",
    "                        eurocentrism  cosmologies  emotiveness bohemianism territorialism\n",
    "                       philosophical-doctrine ethnic minority social-darwinism  theory cultural evolution belief systemfolk music \n",
    "                       traditional art house karl-marx   theorymedia  \n",
    "                       film-theory art history museum studies cultural artifact'''"
   ]
  },
  {
   "cell_type": "code",
   "execution_count": 80,
   "metadata": {},
   "outputs": [],
   "source": [
    "health_related_words = '''disease obesity world health organization medicine nutrition well-being exercise welfare wellness health care public health \n",
    "                     nursing stress safety hygiene research social healthy condition aids epidemiology healthiness wellbeing\n",
    "                     care illness medical dieteducation infectious disease environmental healthcare physical fitness hospitals \n",
    "                     health care provider doctors healthy community design insurance sanitation human body patient mental health\n",
    "                      medicare agriculture health science fitnesshealth policy  weight loss physical therapy psychology pharmacy\n",
    "                     metabolic organism human lifestyle status unhealthy upbeat vaccination sleep condom alcohol smoking water family\n",
    "                     eudaimonia eudaemonia air house prevention genetics public families poor needs treatment communicable disease \n",
    "                     study protection malaria development food priority management healthful mental provide department administration\n",
    "                     programs help assistance funding environment improving emergency need program affected schools private mental illness \n",
    "                     treat diseases preparedness perinatal fertility sickness veterinary sanitary pharmacists behavioral midwives\n",
    "                     gerontology infertility hospitalization midwifery cholesterol childcare pediatrician pediatrics medicaid asthma \n",
    "                     pensions sicknesses push-up physical education body-mass-index eat well gymnastic apparatus tune up good morning \n",
    "                     bathing low blood-pressure heart attack health club ride-bike you feel good eczema urticaria dermatitis sunburn overwork \n",
    "                     manufacturing medical sociology need exercise run'''"
   ]
  },
  {
   "cell_type": "markdown",
   "metadata": {},
   "source": [
    "#### 3. Preprocessing the sets."
   ]
  },
  {
   "cell_type": "markdown",
   "metadata": {},
   "source": [
    " #### Tokenizing and removing stop words from the sets."
   ]
  },
  {
   "cell_type": "code",
   "execution_count": 81,
   "metadata": {},
   "outputs": [],
   "source": [
    "# nlp = en_core_web_sm.load()\n",
    "tokenizer = RegexpTokenizer(r'\\w+')\n",
    "lemmatizer = WordNetLemmatizer()\n",
    "stop = set(stopwords.words('english'))\n",
    "punctuation = list(string.punctuation)\n",
    "stop.update(punctuation)\n",
    "w_tokenizer = WhitespaceTokenizer()\n",
    "\n",
    "# clean the set of words\n",
    "            \n",
    "def furnished(text):\n",
    "    final_text = []\n",
    "    for i in text.split():\n",
    "        if i.lower() not in stop:\n",
    "            word = lemmatizer.lemmatize(i)\n",
    "            final_text.append(word.lower())\n",
    "    return \" \".join(final_text)\n"
   ]
  },
  {
   "cell_type": "code",
   "execution_count": 82,
   "metadata": {},
   "outputs": [],
   "source": [
    "economy = furnished(economy_related_words)\n",
    "social = furnished(social_related_words)\n",
    "culture = furnished(culture_related_words)\n",
    "health = furnished(health_related_words)"
   ]
  },
  {
   "cell_type": "markdown",
   "metadata": {},
   "source": [
    "#### Removing duplicates"
   ]
  },
  {
   "cell_type": "code",
   "execution_count": 83,
   "metadata": {},
   "outputs": [
    {
     "data": {
      "text/plain": [
       "'agriculture infrastructure capitalism trading service sector technology economical supply industrialism efficiency frugality retrenchment downsizing credit debit value economize save economically economy sluggish rise rising spending conserve trend low-management decline industry impact poor profession surplus fall declining accelerating interest balance stability productivity increase rate pushing expanding stabilize industrial borrowing struggling deficit predicted increasing data economizer analyst investment market-based debt free enterprise medium exchange metric savepoint scarcity capital bank company stockholder fund business asset treasury tourism income contraction employment job upturn deflation macroeconomics bankruptcy exporter hyperinflation dollar entrepreneurship upswing marketplace commerce devaluation quicksave deindustrialization stockmarket reflation downspin dollarization withholder bankroll venture mutual plan mortgage lender unemployment crunch central financial institution custom duty mass-production black-market developing-countries developing economic-growth gdp trade barter distribution downturn economist'"
      ]
     },
     "execution_count": 83,
     "metadata": {},
     "output_type": "execute_result"
    }
   ],
   "source": [
    "# delete duplicates\n",
    "string1 = economy\n",
    "words = string1.split()\n",
    "economy = \" \".join(sorted(set(words), key=words.index))\n",
    "economy"
   ]
  },
  {
   "cell_type": "code",
   "execution_count": 84,
   "metadata": {},
   "outputs": [
    {
     "data": {
      "text/plain": [
       "'sociable, gregarious societal friendly society socialization political sociality interpersonal ethnic socially party welfare public community socialist development network human socialism collective personal corporation social constructivism relation volition citizenship brute attitude right socio socioeconomic ethic civic communal marital sociale socialized policy union institution value governmental organization jamboree festivity fairness support care side activism unsocial psychosocial socializing psychological distributional demographic participation reunion partygoer partyism festive power gala housewarming celebration counterparty social-war particularist interactional ideational asocial'"
      ]
     },
     "execution_count": 84,
     "metadata": {},
     "output_type": "execute_result"
    }
   ],
   "source": [
    "string1 = social\n",
    "words = string1.split()\n",
    "social = \" \".join(sorted(set(words), key=words.index))\n",
    "social"
   ]
  },
  {
   "cell_type": "code",
   "execution_count": 85,
   "metadata": {},
   "outputs": [
    {
     "data": {
      "text/plain": [
       "'ethnicity heritage modernity spirituality marxismmaterial culture ethos nationality humanism romanticism civilisation traditionalism genetics kinship heredity marriage indigenous archeology acculturate ontogenesis viniculture modern clothes rooted cicero society history root influence geography historical folk origin phenomenon teleology ancient aspect perspective liberalism nowadays community style unique prevalent describes today belief genre barbarian ethnic colonization cultural universal organization western-civilization structuralism heathen pagan transculturation peasant classicist nativism anarchy ungrown philosophic cult consciousness islamist bro-culture evolve cultic diaspora aftergrowth native cultural-relativism mongolian cosmopolitan epistemology lifestyle diversity chauvinism westernization materialism vernacular homogeneity otherness holism tusculanae disputationes primitivism superficiality hedonism discourse puritanism modernism intellectualism exclusiveness elitism colonialism pentecostalism paganism nationwide expansion rural auxesis kimono culturize alethophobia nettlebed japanification dongyi clannishness insularity hybridity westernisation foreignness worldview exclusionism enculturation ethnocentrism confucianist vulgarization shintoism westernism denominationalism deracination eurocentrism cosmology emotiveness bohemianism territorialism philosophical-doctrine minority social-darwinism theory evolution systemfolk music traditional art house karl-marx theorymedia film-theory museum study artifact'"
      ]
     },
     "execution_count": 85,
     "metadata": {},
     "output_type": "execute_result"
    }
   ],
   "source": [
    "string1 = culture\n",
    "words = string1.split()\n",
    "culture = \" \".join(sorted(set(words), key=words.index))\n",
    "culture"
   ]
  },
  {
   "cell_type": "code",
   "execution_count": 86,
   "metadata": {},
   "outputs": [
    {
     "data": {
      "text/plain": [
       "'disease obesity world health organization medicine nutrition well-being exercise welfare wellness care public nursing stress safety hygiene research social healthy condition aid epidemiology healthiness wellbeing illness medical dieteducation infectious environmental healthcare physical fitness hospital provider doctor community design insurance sanitation human body patient mental medicare agriculture science fitnesshealth policy weight loss therapy psychology pharmacy metabolic organism lifestyle status unhealthy upbeat vaccination sleep condom alcohol smoking water family eudaimonia eudaemonia air house prevention genetics poor need treatment communicable study protection malaria development food priority management healthful provide department administration program help assistance funding environment improving emergency affected school private treat preparedness perinatal fertility sickness veterinary sanitary pharmacist behavioral midwife gerontology infertility hospitalization midwifery cholesterol childcare pediatrician pediatrics medicaid asthma pension push-up education body-mass-index eat well gymnastic apparatus tune good morning bathing low blood-pressure heart attack club ride-bike feel eczema urticaria dermatitis sunburn overwork manufacturing sociology run'"
      ]
     },
     "execution_count": 86,
     "metadata": {},
     "output_type": "execute_result"
    }
   ],
   "source": [
    "string1 = health\n",
    "words = string1.split()\n",
    "health = \" \".join(sorted(set(words), key=words.index))\n",
    "health"
   ]
  },
  {
   "cell_type": "markdown",
   "metadata": {},
   "source": [
    "#### 4. Vectorizing and Standadization.\n",
    "Necessary if cosine similarity would be used"
   ]
  },
  {
   "cell_type": "code",
   "execution_count": 87,
   "metadata": {},
   "outputs": [],
   "source": [
    "'''Vectorizing the sets of words, then standardizing them. TFIDF will be used in order to take care of the least \n",
    "frequent words. Standardizing is cause TFIDF favors long sentences and there'll be inconsistencies between the length \n",
    "of the tweets and the length of set of words.'''\n",
    "\n",
    "\n",
    "def get_vectors(*strs):\n",
    "    text = [t for t in strs]\n",
    "    vectorizer = TfidfVectorizer()\n",
    "    vectorizer.fit(text)\n",
    "    return vectorizer.transform(text).toarray()"
   ]
  },
  {
   "cell_type": "code",
   "execution_count": 88,
   "metadata": {},
   "outputs": [],
   "source": [
    "socialvector = get_vectors(social)\n",
    "economic_vector = get_vectors(economy)\n",
    "culture_vector = get_vectors(culture)\n",
    "health_vector = get_vectors(health)"
   ]
  },
  {
   "cell_type": "code",
   "execution_count": 89,
   "metadata": {},
   "outputs": [],
   "source": [
    "## Vectorizing the tweets\n",
    "tv=TfidfVectorizer()\n",
    "# tweets_bowl = tweets_bowl.tweets.apply(get_vectors)\n",
    "# tweets_bowl.head()\n",
    "tfidf_tweets =tv.fit_transform(tweets_bowl.tweets)"
   ]
  },
  {
   "cell_type": "markdown",
   "metadata": {},
   "source": [
    "### Jaccard Similarity"
   ]
  },
  {
   "cell_type": "code",
   "execution_count": 90,
   "metadata": {},
   "outputs": [],
   "source": [
    "'''Jaccard similarity is good for cases where duplication does not matter, \n",
    "cosine similarity is good for cases where duplication matters while analyzing text similarity. For two product descriptions, \n",
    "it will be better to use Jaccard similarity as repetition of a word does not reduce their similarity.'''\n",
    "\n",
    "def jaccard_similarity(query, document):\n",
    "    intersection = set(query).intersection(set(document))\n",
    "    union = set(query).union(set(document))\n",
    "    return len(intersection)/len(union)\n",
    "# jaccard_score(socialvector, economic_vector)\n",
    "\n",
    "#for similarity of 1 and 2 of column1\n",
    "# jaccard_similarity('dog lion a dog','dog is cat')\n",
    "\n",
    "\n",
    "def get_scores(group,tweets):\n",
    "    scores = []\n",
    "    for tweet in tweets:\n",
    "        s = jaccard_similarity(group, tweet)\n",
    "        scores.append(s)\n",
    "    return scores"
   ]
  },
  {
   "cell_type": "code",
   "execution_count": 91,
   "metadata": {},
   "outputs": [
    {
     "data": {
      "text/plain": [
       "[0.8928571428571429,\n",
       " 0.8571428571428571,\n",
       " 0.5666666666666667,\n",
       " 0.75,\n",
       " 0.4666666666666667,\n",
       " 0.7857142857142857,\n",
       " 0.17857142857142858,\n",
       " 0.7333333333333333,\n",
       " 0.7857142857142857,\n",
       " 0.8571428571428571]"
      ]
     },
     "execution_count": 91,
     "metadata": {},
     "output_type": "execute_result"
    }
   ],
   "source": [
    "# economic scores\n",
    "e_scores = get_scores(economy, tweets_bowl.tweets.to_list())\n",
    "e_scores[-10:]"
   ]
  },
  {
   "cell_type": "code",
   "execution_count": 92,
   "metadata": {},
   "outputs": [
    {
     "data": {
      "text/plain": [
       "[0.8571428571428571,\n",
       " 0.8888888888888888,\n",
       " 0.5862068965517241,\n",
       " 0.7142857142857143,\n",
       " 0.4827586206896552,\n",
       " 0.8148148148148148,\n",
       " 0.18518518518518517,\n",
       " 0.6451612903225806,\n",
       " 0.8148148148148148,\n",
       " 0.8888888888888888]"
      ]
     },
     "execution_count": 92,
     "metadata": {},
     "output_type": "execute_result"
    }
   ],
   "source": [
    "# social scores\n",
    "s_scores = get_scores(social, tweets_bowl.tweets.to_list())\n",
    "s_scores[-10:]"
   ]
  },
  {
   "cell_type": "code",
   "execution_count": 93,
   "metadata": {},
   "outputs": [
    {
     "data": {
      "text/plain": [
       "[0.8928571428571429,\n",
       " 0.8571428571428571,\n",
       " 0.5666666666666667,\n",
       " 0.75,\n",
       " 0.4666666666666667,\n",
       " 0.7857142857142857,\n",
       " 0.17857142857142858,\n",
       " 0.7333333333333333,\n",
       " 0.7857142857142857,\n",
       " 0.8571428571428571]"
      ]
     },
     "execution_count": 93,
     "metadata": {},
     "output_type": "execute_result"
    }
   ],
   "source": [
    "# culture scores\n",
    "c_scores = get_scores(culture, tweets_bowl.tweets.to_list())\n",
    "c_scores[-10:]"
   ]
  },
  {
   "cell_type": "code",
   "execution_count": 94,
   "metadata": {},
   "outputs": [
    {
     "data": {
      "text/plain": [
       "[0.6333333333333333,\n",
       " 0.6785714285714286,\n",
       " 0.59375,\n",
       " 0.7037037037037037,\n",
       " 0.5384615384615384,\n",
       " 0.7241379310344828]"
      ]
     },
     "execution_count": 94,
     "metadata": {},
     "output_type": "execute_result"
    }
   ],
   "source": [
    "# health scores\n",
    "h_scores = get_scores(health, tweets_bowl.tweets.to_list())\n",
    "h_scores[:6]"
   ]
  },
  {
   "cell_type": "code",
   "execution_count": 95,
   "metadata": {},
   "outputs": [
    {
     "data": {
      "text/html": [
       "<div>\n",
       "<style scoped>\n",
       "    .dataframe tbody tr th:only-of-type {\n",
       "        vertical-align: middle;\n",
       "    }\n",
       "\n",
       "    .dataframe tbody tr th {\n",
       "        vertical-align: top;\n",
       "    }\n",
       "\n",
       "    .dataframe thead th {\n",
       "        text-align: right;\n",
       "    }\n",
       "</style>\n",
       "<table border=\"1\" class=\"dataframe\">\n",
       "  <thead>\n",
       "    <tr style=\"text-align: right;\">\n",
       "      <th></th>\n",
       "      <th>names</th>\n",
       "      <th>economic_score</th>\n",
       "      <th>social_score</th>\n",
       "      <th>culture_score</th>\n",
       "      <th>health_scores</th>\n",
       "    </tr>\n",
       "  </thead>\n",
       "  <tbody>\n",
       "    <tr>\n",
       "      <th>0</th>\n",
       "      <td>elsollatinonews</td>\n",
       "      <td>0.700000</td>\n",
       "      <td>0.666667</td>\n",
       "      <td>0.700000</td>\n",
       "      <td>0.633333</td>\n",
       "    </tr>\n",
       "    <tr>\n",
       "      <th>1</th>\n",
       "      <td>MediasetTgcom24</td>\n",
       "      <td>0.633333</td>\n",
       "      <td>0.655172</td>\n",
       "      <td>0.633333</td>\n",
       "      <td>0.678571</td>\n",
       "    </tr>\n",
       "    <tr>\n",
       "      <th>2</th>\n",
       "      <td>snarke</td>\n",
       "      <td>0.558824</td>\n",
       "      <td>0.575758</td>\n",
       "      <td>0.558824</td>\n",
       "      <td>0.593750</td>\n",
       "    </tr>\n",
       "    <tr>\n",
       "      <th>3</th>\n",
       "      <td>trumpytweeter</td>\n",
       "      <td>0.655172</td>\n",
       "      <td>0.678571</td>\n",
       "      <td>0.655172</td>\n",
       "      <td>0.703704</td>\n",
       "    </tr>\n",
       "    <tr>\n",
       "      <th>4</th>\n",
       "      <td>Ranaabtar</td>\n",
       "      <td>0.500000</td>\n",
       "      <td>0.518519</td>\n",
       "      <td>0.500000</td>\n",
       "      <td>0.538462</td>\n",
       "    </tr>\n",
       "    <tr>\n",
       "      <th>5</th>\n",
       "      <td>FarrisFlagg</td>\n",
       "      <td>0.733333</td>\n",
       "      <td>0.758621</td>\n",
       "      <td>0.733333</td>\n",
       "      <td>0.724138</td>\n",
       "    </tr>\n",
       "    <tr>\n",
       "      <th>6</th>\n",
       "      <td>wilsonfire9</td>\n",
       "      <td>0.566667</td>\n",
       "      <td>0.586207</td>\n",
       "      <td>0.566667</td>\n",
       "      <td>0.607143</td>\n",
       "    </tr>\n",
       "    <tr>\n",
       "      <th>7</th>\n",
       "      <td>sm_gulledge</td>\n",
       "      <td>0.821429</td>\n",
       "      <td>0.851852</td>\n",
       "      <td>0.821429</td>\n",
       "      <td>0.884615</td>\n",
       "    </tr>\n",
       "    <tr>\n",
       "      <th>8</th>\n",
       "      <td>jamieo33</td>\n",
       "      <td>0.750000</td>\n",
       "      <td>0.777778</td>\n",
       "      <td>0.750000</td>\n",
       "      <td>0.807692</td>\n",
       "    </tr>\n",
       "    <tr>\n",
       "      <th>9</th>\n",
       "      <td>JohnnyQuest22</td>\n",
       "      <td>0.533333</td>\n",
       "      <td>0.551724</td>\n",
       "      <td>0.533333</td>\n",
       "      <td>0.571429</td>\n",
       "    </tr>\n",
       "    <tr>\n",
       "      <th>10</th>\n",
       "      <td>Dose_Dissonance</td>\n",
       "      <td>0.857143</td>\n",
       "      <td>0.821429</td>\n",
       "      <td>0.857143</td>\n",
       "      <td>0.785714</td>\n",
       "    </tr>\n",
       "    <tr>\n",
       "      <th>11</th>\n",
       "      <td>changeillinois</td>\n",
       "      <td>0.766667</td>\n",
       "      <td>0.793103</td>\n",
       "      <td>0.766667</td>\n",
       "      <td>0.758621</td>\n",
       "    </tr>\n",
       "    <tr>\n",
       "      <th>12</th>\n",
       "      <td>Anchorman_USA</td>\n",
       "      <td>0.677419</td>\n",
       "      <td>0.700000</td>\n",
       "      <td>0.677419</td>\n",
       "      <td>0.724138</td>\n",
       "    </tr>\n",
       "    <tr>\n",
       "      <th>13</th>\n",
       "      <td>SebWrites</td>\n",
       "      <td>0.607143</td>\n",
       "      <td>0.629630</td>\n",
       "      <td>0.607143</td>\n",
       "      <td>0.653846</td>\n",
       "    </tr>\n",
       "    <tr>\n",
       "      <th>14</th>\n",
       "      <td>FreebieDepot</td>\n",
       "      <td>0.633333</td>\n",
       "      <td>0.655172</td>\n",
       "      <td>0.633333</td>\n",
       "      <td>0.678571</td>\n",
       "    </tr>\n",
       "    <tr>\n",
       "      <th>15</th>\n",
       "      <td>Hervorrager</td>\n",
       "      <td>0.766667</td>\n",
       "      <td>0.733333</td>\n",
       "      <td>0.766667</td>\n",
       "      <td>0.821429</td>\n",
       "    </tr>\n",
       "    <tr>\n",
       "      <th>16</th>\n",
       "      <td>SebWrites</td>\n",
       "      <td>0.607143</td>\n",
       "      <td>0.629630</td>\n",
       "      <td>0.607143</td>\n",
       "      <td>0.653846</td>\n",
       "    </tr>\n",
       "    <tr>\n",
       "      <th>17</th>\n",
       "      <td>officepools_com</td>\n",
       "      <td>0.766667</td>\n",
       "      <td>0.733333</td>\n",
       "      <td>0.766667</td>\n",
       "      <td>0.821429</td>\n",
       "    </tr>\n",
       "    <tr>\n",
       "      <th>18</th>\n",
       "      <td>Cheryl84037124</td>\n",
       "      <td>0.178571</td>\n",
       "      <td>0.185185</td>\n",
       "      <td>0.178571</td>\n",
       "      <td>0.192308</td>\n",
       "    </tr>\n",
       "    <tr>\n",
       "      <th>19</th>\n",
       "      <td>MoClarker</td>\n",
       "      <td>0.580645</td>\n",
       "      <td>0.600000</td>\n",
       "      <td>0.580645</td>\n",
       "      <td>0.620690</td>\n",
       "    </tr>\n",
       "  </tbody>\n",
       "</table>\n",
       "</div>"
      ],
      "text/plain": [
       "              names  economic_score  social_score  culture_score  \\\n",
       "0   elsollatinonews        0.700000      0.666667       0.700000   \n",
       "1   MediasetTgcom24        0.633333      0.655172       0.633333   \n",
       "2            snarke        0.558824      0.575758       0.558824   \n",
       "3     trumpytweeter        0.655172      0.678571       0.655172   \n",
       "4         Ranaabtar        0.500000      0.518519       0.500000   \n",
       "5       FarrisFlagg        0.733333      0.758621       0.733333   \n",
       "6       wilsonfire9        0.566667      0.586207       0.566667   \n",
       "7       sm_gulledge        0.821429      0.851852       0.821429   \n",
       "8          jamieo33        0.750000      0.777778       0.750000   \n",
       "9     JohnnyQuest22        0.533333      0.551724       0.533333   \n",
       "10  Dose_Dissonance        0.857143      0.821429       0.857143   \n",
       "11   changeillinois        0.766667      0.793103       0.766667   \n",
       "12    Anchorman_USA        0.677419      0.700000       0.677419   \n",
       "13        SebWrites        0.607143      0.629630       0.607143   \n",
       "14     FreebieDepot        0.633333      0.655172       0.633333   \n",
       "15      Hervorrager        0.766667      0.733333       0.766667   \n",
       "16        SebWrites        0.607143      0.629630       0.607143   \n",
       "17  officepools_com        0.766667      0.733333       0.766667   \n",
       "18   Cheryl84037124        0.178571      0.185185       0.178571   \n",
       "19        MoClarker        0.580645      0.600000       0.580645   \n",
       "\n",
       "    health_scores  \n",
       "0        0.633333  \n",
       "1        0.678571  \n",
       "2        0.593750  \n",
       "3        0.703704  \n",
       "4        0.538462  \n",
       "5        0.724138  \n",
       "6        0.607143  \n",
       "7        0.884615  \n",
       "8        0.807692  \n",
       "9        0.571429  \n",
       "10       0.785714  \n",
       "11       0.758621  \n",
       "12       0.724138  \n",
       "13       0.653846  \n",
       "14       0.678571  \n",
       "15       0.821429  \n",
       "16       0.653846  \n",
       "17       0.821429  \n",
       "18       0.192308  \n",
       "19       0.620690  "
      ]
     },
     "execution_count": 95,
     "metadata": {},
     "output_type": "execute_result"
    }
   ],
   "source": [
    "'''new df with names, and the jaccard scores for each group'''\n",
    "\n",
    "data  = {'names':tweets_bowl.screen_name.to_list(), 'economic_score':e_scores,\n",
    "         'social_score': s_scores, 'culture_score':c_scores, 'health_scores':h_scores}\n",
    "scores_df = pd.DataFrame(data)\n",
    "scores_df.head(20)"
   ]
  },
  {
   "cell_type": "markdown",
   "metadata": {},
   "source": [
    "There's a thin line between economy, social and culture."
   ]
  },
  {
   "cell_type": "markdown",
   "metadata": {},
   "source": [
    "Pick out the greatest score out of the 4 scores, where the score is greatest, replace it with 1, the rest 0."
   ]
  },
  {
   "cell_type": "code",
   "execution_count": 96,
   "metadata": {},
   "outputs": [],
   "source": [
    "'''Actual assigning of classes to the tweets'''\n",
    "\n",
    "def get_clusters(l1, l2, l3, l4):\n",
    "    econ = []\n",
    "    socio = []\n",
    "    cul = []\n",
    "    heal = []\n",
    "    for i, j, k, l in zip(l1, l2, l3, l4):\n",
    "        m = max(i, j, k, l)\n",
    "        if m == i:\n",
    "            econ.append(1)\n",
    "        else:\n",
    "            econ.append(0)\n",
    "        if m == j:\n",
    "            socio.append(1)\n",
    "        else:\n",
    "            socio.append(0)        \n",
    "        if m == k:\n",
    "            cul.append(1)\n",
    "        else:\n",
    "            cul.append(0)  \n",
    "        if m == l:\n",
    "            heal.append(1)\n",
    "        else:\n",
    "            heal.append(0)   \n",
    "            \n",
    "    return econ, socio, cul, heal"
   ]
  },
  {
   "cell_type": "code",
   "execution_count": 97,
   "metadata": {},
   "outputs": [],
   "source": [
    "l1 = scores_df.economic_score.to_list()\n",
    "l2 = scores_df.social_score.to_list()\n",
    "l3 = scores_df.culture_score.to_list()\n",
    "l4 = scores_df.health_scores.to_list()\n",
    "\n",
    "econ, socio, cul, heal = get_clusters(l1, l2, l3, l4)"
   ]
  },
  {
   "cell_type": "code",
   "execution_count": 98,
   "metadata": {},
   "outputs": [],
   "source": [
    "data = {'name': scores_df.names.to_list(), 'economic':econ, 'social':socio, 'culture':cul, 'health': heal}\n",
    "cluster_df = pd.DataFrame(data)"
   ]
  },
  {
   "cell_type": "code",
   "execution_count": 99,
   "metadata": {},
   "outputs": [],
   "source": [
    "'''Due to the close similarity between the economic, social and health tweets, some tweets have multiple categories, \n",
    "so to take care of that the rows with a sum > 1 will have to share the categories. After this, clustering will take care \n",
    "of the fractions'''\n",
    "\n",
    "\n",
    "a =  cluster_df[['economic', 'social', 'culture', 'health']].sum(axis = 1) > 1\n",
    "c = cluster_df[['economic', 'social', 'culture', 'health']].sum(axis = 1)\n",
    "# b = cluster_df.copy()\n",
    "cluster_df.loc[(a), ['economic','social', 'culture', 'health']] = 1/c"
   ]
  },
  {
   "cell_type": "code",
   "execution_count": 100,
   "metadata": {},
   "outputs": [
    {
     "data": {
      "text/plain": [
       "(1747805, 5)"
      ]
     },
     "execution_count": 100,
     "metadata": {},
     "output_type": "execute_result"
    }
   ],
   "source": [
    "cluster_df.shape"
   ]
  },
  {
   "cell_type": "markdown",
   "metadata": {},
   "source": [
    "### Clustered DF"
   ]
  },
  {
   "cell_type": "code",
   "execution_count": 101,
   "metadata": {
    "scrolled": true
   },
   "outputs": [
    {
     "name": "stdout",
     "output_type": "stream",
     "text": [
      "(484100, 5)\n"
     ]
    },
    {
     "data": {
      "text/html": [
       "<div>\n",
       "<style scoped>\n",
       "    .dataframe tbody tr th:only-of-type {\n",
       "        vertical-align: middle;\n",
       "    }\n",
       "\n",
       "    .dataframe tbody tr th {\n",
       "        vertical-align: top;\n",
       "    }\n",
       "\n",
       "    .dataframe thead th {\n",
       "        text-align: right;\n",
       "    }\n",
       "</style>\n",
       "<table border=\"1\" class=\"dataframe\">\n",
       "  <thead>\n",
       "    <tr style=\"text-align: right;\">\n",
       "      <th></th>\n",
       "      <th>economic</th>\n",
       "      <th>social</th>\n",
       "      <th>culture</th>\n",
       "      <th>health</th>\n",
       "      <th>total</th>\n",
       "    </tr>\n",
       "    <tr>\n",
       "      <th>name</th>\n",
       "      <th></th>\n",
       "      <th></th>\n",
       "      <th></th>\n",
       "      <th></th>\n",
       "      <th></th>\n",
       "    </tr>\n",
       "  </thead>\n",
       "  <tbody>\n",
       "    <tr>\n",
       "      <th>Total</th>\n",
       "      <td>93410</td>\n",
       "      <td>573550</td>\n",
       "      <td>93410</td>\n",
       "      <td>1102758</td>\n",
       "      <td>1863128</td>\n",
       "    </tr>\n",
       "    <tr>\n",
       "      <th>revue2presse</th>\n",
       "      <td>747</td>\n",
       "      <td>1309</td>\n",
       "      <td>747</td>\n",
       "      <td>1205</td>\n",
       "      <td>4008</td>\n",
       "    </tr>\n",
       "    <tr>\n",
       "      <th>Hotpage_News</th>\n",
       "      <td>50</td>\n",
       "      <td>183</td>\n",
       "      <td>50</td>\n",
       "      <td>1660</td>\n",
       "      <td>1943</td>\n",
       "    </tr>\n",
       "    <tr>\n",
       "      <th>greeneyes3470</th>\n",
       "      <td>258</td>\n",
       "      <td>586</td>\n",
       "      <td>258</td>\n",
       "      <td>823</td>\n",
       "      <td>1925</td>\n",
       "    </tr>\n",
       "    <tr>\n",
       "      <th>robinsnewswire</th>\n",
       "      <td>21</td>\n",
       "      <td>153</td>\n",
       "      <td>21</td>\n",
       "      <td>1171</td>\n",
       "      <td>1366</td>\n",
       "    </tr>\n",
       "  </tbody>\n",
       "</table>\n",
       "</div>"
      ],
      "text/plain": [
       "                economic  social  culture   health    total\n",
       "name                                                       \n",
       "Total              93410  573550    93410  1102758  1863128\n",
       "revue2presse         747    1309      747     1205     4008\n",
       "Hotpage_News          50     183       50     1660     1943\n",
       "greeneyes3470        258     586      258      823     1925\n",
       "robinsnewswire        21     153       21     1171     1366"
      ]
     },
     "execution_count": 101,
     "metadata": {},
     "output_type": "execute_result"
    }
   ],
   "source": [
    "pivot_clusters = cluster_df.groupby(['name']).sum()\n",
    "pivot_clusters['economic'] = pivot_clusters['economic'].astype(int)\n",
    "pivot_clusters['social'] = pivot_clusters['social'].astype(int)\n",
    "pivot_clusters['culture'] = pivot_clusters['culture'].astype(int)\n",
    "pivot_clusters['health'] = pivot_clusters['health'].astype(int)\n",
    "pivot_clusters['total'] = pivot_clusters['health'] + pivot_clusters['culture'] + pivot_clusters['social'] +  pivot_clusters['economic']\n",
    "pivot_clusters.loc[\"Total\"] = pivot_clusters.sum()  #add a totals row\n",
    "print(pivot_clusters.shape)\n",
    "pivot_clusters = pivot_clusters.drop(pivot_clusters[pivot_clusters['total']==0].index)\n",
    "pivot_clusters.sort_values(by=['total'],ascending=False).head()"
   ]
  },
  {
   "cell_type": "markdown",
   "metadata": {},
   "source": [
    "#### Visualisations"
   ]
  },
  {
   "cell_type": "code",
   "execution_count": 102,
   "metadata": {},
   "outputs": [
    {
     "data": {
      "image/png": "[encoded data removed]",
      "text/plain": [
       "<Figure size 720x504 with 1 Axes>"
      ]
     },
     "metadata": {},
     "output_type": "display_data"
    }
   ],
   "source": [
    "'''A pie chart to show the total number of tweets in each category'''\n",
    "\n",
    "fig = plt.figure(figsize =(10, 7)) \n",
    "a = pivot_clusters.drop(['total'], axis = 1)\n",
    "plt.pie(a.loc['Total'], labels = a.columns)\n",
    "plt.title('A pie chart showing the volumes of tweets under different categories.')\n",
    "plt.show() "
   ]
  },
  {
   "cell_type": "markdown",
   "metadata": {},
   "source": [
    "* The huge percentage in health could be as a result of the current pandemic, Covid19, everyone is talking about it thus a huge volume of tweets. \n",
    "* The social tweets follow, this could be related to the set of words defined as words related to social. Most of these terms are general, thus if a tweet that maybe was more economy related could have more social words than economy words and thus classified as social."
   ]
  },
  {
   "cell_type": "code",
   "execution_count": 103,
   "metadata": {},
   "outputs": [
    {
     "data": {
      "text/plain": [
       "Text(0, 0.5, 'total tweets')"
      ]
     },
     "execution_count": 103,
     "metadata": {},
     "output_type": "execute_result"
    },
    {
     "data": {
      "image/png": "[encoded data removed]",
      "text/plain": [
       "<Figure size 864x720 with 1 Axes>"
      ]
     },
     "metadata": {
      "needs_background": "light"
     },
     "output_type": "display_data"
    }
   ],
   "source": [
    "''' Users with most tweets'''\n",
    "\n",
    "d = pivot_clusters.sort_values(by = 'total', ascending  = False)\n",
    "e = d.head(12)\n",
    "e.drop(e.head(2).index, inplace=True)\n",
    "plt.figure(figsize=(12,10))\n",
    "\n",
    "sns.barplot(x = e.index, y = e.total)\n",
    "plt.title('A bar plot showing top tweeps based on volume of tweets')\n",
    "plt.xticks(rotation=45)\n",
    "plt.xlabel('screen names')\n",
    "plt.ylabel('total tweets')"
   ]
  },
  {
   "cell_type": "code",
   "execution_count": 104,
   "metadata": {},
   "outputs": [
    {
     "data": {
      "text/plain": [
       "Text(0, 0.5, 'economy tweets')"
      ]
     },
     "execution_count": 104,
     "metadata": {},
     "output_type": "execute_result"
    },
    {
     "data": {
      "image/png": "[encoded data removed]",
      "text/plain": [
       "<Figure size 864x720 with 1 Axes>"
      ]
     },
     "metadata": {
      "needs_background": "light"
     },
     "output_type": "display_data"
    }
   ],
   "source": [
    "''' Users with most economy tweets'''\n",
    "\n",
    "d = pivot_clusters.sort_values(by = 'economic', ascending  = False)\n",
    "e = d.head(11)\n",
    "e.drop(e.head(1).index, inplace=True)\n",
    "\n",
    "plt.figure(figsize=(12,10))\n",
    "sns.barplot(x = e.index, y = e.economic)\n",
    "plt.title('A bar plot showing top tweeps based on volume of economy tweets')\n",
    "plt.xticks(rotation=45)\n",
    "plt.xlabel('screen names')\n",
    "plt.ylabel('economy tweets')"
   ]
  },
  {
   "cell_type": "code",
   "execution_count": 105,
   "metadata": {},
   "outputs": [
    {
     "data": {
      "text/plain": [
       "Text(0, 0.5, 'social tweets')"
      ]
     },
     "execution_count": 105,
     "metadata": {},
     "output_type": "execute_result"
    },
    {
     "data": {
      "image/png": "[encoded data removed]",
      "text/plain": [
       "<Figure size 864x720 with 1 Axes>"
      ]
     },
     "metadata": {
      "needs_background": "light"
     },
     "output_type": "display_data"
    }
   ],
   "source": [
    "''' Users with most social tweets'''\n",
    "\n",
    "d = pivot_clusters.sort_values(by = 'social', ascending  = False)\n",
    "e = d.head(12)\n",
    "e.drop(e.head(2).index, inplace=True)\n",
    "\n",
    "\n",
    "plt.figure(figsize=(12,10))\n",
    "sns.barplot(x = e.index, y = e.social)\n",
    "plt.title('A bar plot showing top tweeps based on volume of social tweets')\n",
    "plt.xticks(rotation=45)\n",
    "plt.xlabel('screen names')\n",
    "plt.ylabel('social tweets')"
   ]
  },
  {
   "cell_type": "code",
   "execution_count": 106,
   "metadata": {},
   "outputs": [
    {
     "data": {
      "text/plain": [
       "Text(0, 0.5, 'culture tweets')"
      ]
     },
     "execution_count": 106,
     "metadata": {},
     "output_type": "execute_result"
    },
    {
     "data": {
      "image/png": "[encoded data removed]",
      "text/plain": [
       "<Figure size 864x720 with 1 Axes>"
      ]
     },
     "metadata": {
      "needs_background": "light"
     },
     "output_type": "display_data"
    }
   ],
   "source": [
    "''' Users with most culture tweets'''\n",
    "\n",
    "d = pivot_clusters.sort_values(by = 'culture', ascending  = False)\n",
    "e = d.head(11)\n",
    "e.drop(e.head(1).index, inplace=True)\n",
    "\n",
    "\n",
    "plt.figure(figsize=(12,10))\n",
    "sns.barplot(x = e.index, y = e.culture)\n",
    "plt.title('A bar plot showing top tweeps based on volume of culture tweets')\n",
    "plt.xticks(rotation=45)\n",
    "plt.xlabel('screen names')\n",
    "plt.ylabel('culture tweets')"
   ]
  },
  {
   "cell_type": "code",
   "execution_count": 107,
   "metadata": {},
   "outputs": [
    {
     "data": {
      "text/plain": [
       "Text(0, 0.5, 'health tweets')"
      ]
     },
     "execution_count": 107,
     "metadata": {},
     "output_type": "execute_result"
    },
    {
     "data": {
      "image/png": "[encoded data removed]",
      "text/plain": [
       "<Figure size 864x720 with 1 Axes>"
      ]
     },
     "metadata": {
      "needs_background": "light"
     },
     "output_type": "display_data"
    }
   ],
   "source": [
    "''' Users with most health tweets'''\n",
    "\n",
    "d = pivot_clusters.sort_values(by = 'health', ascending  = False)\n",
    "e = d.head(12)\n",
    "e.drop(e.head(2).index, inplace=True)\n",
    "\n",
    "\n",
    "plt.figure(figsize=(12,10))\n",
    "sns.barplot(x = e.index, y = e.health)\n",
    "plt.title('A bar plot showing top tweeps based on volume of health tweets')\n",
    "plt.xticks(rotation=45)\n",
    "plt.xlabel('screen names')\n",
    "plt.ylabel('health tweets')"
   ]
  },
  {
   "cell_type": "markdown",
   "metadata": {},
   "source": [
    "##  KMeans Clustering."
   ]
  },
  {
   "cell_type": "markdown",
   "metadata": {},
   "source": [
    "'Distance computation in k-Means weights each dimension equally and hence care must be taken to ensure that unit of dimension shouldn’t distort relative near-ness of observations. Common method is to unit-standardize each dimension individually.' The unit for the tweets are the same, thus no need."
   ]
  },
  {
   "cell_type": "code",
   "execution_count": 108,
   "metadata": {},
   "outputs": [],
   "source": [
    "from sklearn.cluster import KMeans\n",
    "pivot_clusters.drop(pivot_clusters.tail(1).index,inplace=True)"
   ]
  },
  {
   "cell_type": "markdown",
   "metadata": {},
   "source": [
    "### 2D Clusters."
   ]
  },
  {
   "cell_type": "markdown",
   "metadata": {},
   "source": [
    "#### * Socio-Economic"
   ]
  },
  {
   "cell_type": "code",
   "execution_count": 112,
   "metadata": {},
   "outputs": [
    {
     "data": {
      "image/png": "[encoded data removed]",
      "text/plain": [
       "<Figure size 432x288 with 1 Axes>"
      ]
     },
     "metadata": {
      "needs_background": "light"
     },
     "output_type": "display_data"
    }
   ],
   "source": [
    "# X = pivot_clusters.iloc[:, [0,1]].values\n",
    "X = pivot_clusters[['economic', 'social']].values\n",
    "\n",
    "# Elbow Method\n",
    "from sklearn.cluster import KMeans\n",
    "wcss = []\n",
    "for i in range(1, 11):\n",
    "    kmeans = KMeans(n_clusters=i, init='k-means++', n_init=10, max_iter=300, random_state=0)\n",
    "    kmeans.fit(X)\n",
    "    wcss.append(kmeans.inertia_)\n",
    "plt.plot(range(1,11), wcss)\n",
    "plt.title('Elbow Method')\n",
    "plt.xlabel('Number of Clusters')\n",
    "plt.ylabel('wcss')\n",
    "plt.show()"
   ]
  },
  {
   "cell_type": "code",
   "execution_count": 110,
   "metadata": {},
   "outputs": [
    {
     "data": {
      "image/png": "[encoded data removed]",
      "text/plain": [
       "<Figure size 432x288 with 1 Axes>"
      ]
     },
     "metadata": {
      "needs_background": "light"
     },
     "output_type": "display_data"
    }
   ],
   "source": [
    "# fitting kmeans to dataset\n",
    "kmeans = KMeans(n_clusters=4, init='k-means++', n_init=10, max_iter=300, random_state=0)\n",
    "Y_kmeans = kmeans.fit_predict(X)\n",
    "\n",
    "# Visualising the clusters\n",
    "plt.scatter(X[Y_kmeans==0, 0], X[Y_kmeans==0, 1], s=100, c='violet', label= 'Cluster 1')\n",
    "plt.scatter(X[Y_kmeans==1, 0], X[Y_kmeans==1, 1], s=100, c='cyan', label= 'Cluster 2')\n",
    "plt.scatter(X[Y_kmeans==2, 0], X[Y_kmeans==2, 1], s=100, c='green', label= 'Cluster 3')\n",
    "plt.scatter(X[Y_kmeans==3, 0], X[Y_kmeans==3, 1], s=100, c='blue', label= 'Cluster 4')\n",
    "# plt.scatter(X[Y_kmeans==4, 0], X[Y_kmeans==4, 1], s=100, c='magenta', label= 'Cluster 5')\n",
    "plt.scatter(kmeans.cluster_centers_[:, 0], kmeans.cluster_centers_[:, 1], s=100, c='black', label='Centroids' )\n",
    "plt.title('Clusters of tweets in economic and social groups')\n",
    "plt.xlabel('economic tweets')\n",
    "plt.ylabel('social tweets')\n",
    "plt.legend()\n",
    "plt.show()"
   ]
  },
  {
   "cell_type": "markdown",
   "metadata": {},
   "source": [
    "The plot above indicates most of the users tend to share a little bit more economy-centred tweets compared to social tweets. "
   ]
  },
  {
   "cell_type": "markdown",
   "metadata": {},
   "source": [
    "### Health-Culture"
   ]
  },
  {
   "cell_type": "code",
   "execution_count": 114,
   "metadata": {},
   "outputs": [
    {
     "data": {
      "image/png": "[encoded data removed]",
      "text/plain": [
       "<Figure size 432x288 with 1 Axes>"
      ]
     },
     "metadata": {
      "needs_background": "light"
     },
     "output_type": "display_data"
    }
   ],
   "source": [
    "# X = pivot_clusters.iloc[:, [2,4]].values\n",
    "X = pivot_clusters[['health', 'culture']].values\n",
    "\n",
    "# Elbow Method\n",
    "from sklearn.cluster import KMeans\n",
    "wcss = []\n",
    "for i in range(1, 8):\n",
    "    kmeans = KMeans(n_clusters=i, init='k-means++', n_init=10, max_iter=300, random_state=0)\n",
    "    kmeans.fit(X)\n",
    "    wcss.append(kmeans.inertia_)\n",
    "plt.plot(range(1,8), wcss)\n",
    "plt.title('Elbow Method')\n",
    "plt.xlabel('Number of Clusters')\n",
    "plt.ylabel('wcss')\n",
    "plt.show()\n"
   ]
  },
  {
   "cell_type": "code",
   "execution_count": 115,
   "metadata": {},
   "outputs": [
    {
     "data": {
      "image/png": "[encoded data removed]",
      "text/plain": [
       "<Figure size 432x288 with 1 Axes>"
      ]
     },
     "metadata": {
      "needs_background": "light"
     },
     "output_type": "display_data"
    }
   ],
   "source": [
    "# fitting kmeans to dataset\n",
    "kmeans = KMeans(n_clusters=3, init='k-means++', n_init=10, max_iter=300, random_state=0)\n",
    "Y_kmeans = kmeans.fit_predict(X)\n",
    "\n",
    "# Visualising the clusters\n",
    "plt.scatter(X[Y_kmeans==0, 0], X[Y_kmeans==0, 1], s=70, c='violet', label= 'Cluster 1')\n",
    "plt.scatter(X[Y_kmeans==1, 0], X[Y_kmeans==1, 1], s=70, c='cyan', label= 'Cluster 2')\n",
    "plt.scatter(X[Y_kmeans==2, 0], X[Y_kmeans==2, 1], s=70, c='green', label= 'Cluster 3')\n",
    "# plt.scatter(X[Y_kmeans==3, 0], X[Y_kmeans==3, 1], s=70, c='blue', label= 'Cluster 4')\n",
    "# plt.scatter(X[Y_kmeans==4, 0], X[Y_kmeans==4, 1], s=70, c='magenta', label= 'Cluster 5')\n",
    "# plt.scatter(X[Y_kmeans==5, 0], X[Y_kmeans==5, 1], s=100, c='pink', label= 'Cluster 6')\n",
    "# plt.scatter(X[Y_kmeans==6, 0], X[Y_kmeans==6, 1], s=100, c='yellow', label= 'Cluster 7')\n",
    "plt.scatter(kmeans.cluster_centers_[:, 0], kmeans.cluster_centers_[:, 1], s=100, c='black', label='Centroids' )\n",
    "plt.title('Clusters of tweets in culture and health groups')\n",
    "plt.xlabel('health tweets')\n",
    "plt.ylabel('culture tweets')\n",
    "plt.legend()\n",
    "plt.show()"
   ]
  },
  {
   "cell_type": "markdown",
   "metadata": {},
   "source": [
    "The plot above indicates that most of users share much more health-centered tweets compared to culture tweets, \n",
    "which indeed match the situation of last year when the pandemic is a centered topic."
   ]
  },
  {
   "cell_type": "markdown",
   "metadata": {},
   "source": [
    "## AgglomerativeClustering"
   ]
  },
  {
   "cell_type": "code",
   "execution_count": 48,
   "metadata": {},
   "outputs": [],
   "source": [
    "from sklearn.metrics import silhouette_score, davies_bouldin_score\n",
    "from sklearn.cluster import AgglomerativeClustering"
   ]
  },
  {
   "cell_type": "code",
   "execution_count": 49,
   "metadata": {},
   "outputs": [],
   "source": [
    "def get_best_cluster(data):\n",
    "    scores = []\n",
    "    for i in range(2, 7):\n",
    "        agg = AgglomerativeClustering(n_clusters=i)\n",
    "        agg.fit(data)\n",
    "        scores.append(davies_bouldin_score(X, agg.labels_))\n",
    "    plt.plot(range(2,7), scores)\n",
    "    plt.plot(range(2,7),scores)\n",
    "    plt.title('AgglomerativeClustering')\n",
    "    plt.xlabel('Number of Clusters')\n",
    "    plt.ylabel('score')\n",
    "    plt.show()\n",
    "    \n",
    "def cluster_plot(data, n_clusters, title, xlabel, ylabel):\n",
    "    agg = AgglomerativeClustering(n_clusters=n_clusters)\n",
    "    agg.fit(data)\n",
    "    Y = agg.labels_\n",
    "\n",
    "    # Visualising the clusters\n",
    "    c = ['violet', 'cyan','green','blue', 'red']\n",
    "    for i in range(1, n_clusters+1):\n",
    "        plt.scatter(X[Y==i-1, 0], X[Y==i-1, 1], s=70, c=c[i-1], label= f'Cluster {i}')\n",
    "    plt.title(title)\n",
    "    plt.xlabel(xlabel)\n",
    "    plt.ylabel(ylabel)\n",
    "    plt.legend()\n",
    "    plt.show()"
   ]
  },
  {
   "cell_type": "markdown",
   "metadata": {},
   "source": [
    "####  economic and social"
   ]
  },
  {
   "cell_type": "code",
   "execution_count": 50,
   "metadata": {},
   "outputs": [
    {
     "data": {
      "image/png": "[encoded data removed]",
      "text/plain": [
       "<Figure size 432x288 with 1 Axes>"
      ]
     },
     "metadata": {
      "needs_background": "light"
     },
     "output_type": "display_data"
    }
   ],
   "source": [
    "X = pivot_clusters[['economic', 'social']].values\n",
    "get_best_cluster(X)"
   ]
  },
  {
   "cell_type": "code",
   "execution_count": 51,
   "metadata": {
    "scrolled": true
   },
   "outputs": [
    {
     "data": {
      "image/png": "[encoded data removed]",
      "text/plain": [
       "<Figure size 432x288 with 1 Axes>"
      ]
     },
     "metadata": {
      "needs_background": "light"
     },
     "output_type": "display_data"
    }
   ],
   "source": [
    "cluster_plot(X, 5, \"Clusters of tweets in economic and social groups\", \"economic tweets\", \"social tweets\")"
   ]
  },
  {
   "cell_type": "markdown",
   "metadata": {},
   "source": [
    "#### Health-Culture"
   ]
  },
  {
   "cell_type": "code",
   "execution_count": 52,
   "metadata": {},
   "outputs": [
    {
     "data": {
      "image/png": "[encoded data removed]",
      "text/plain": [
       "<Figure size 432x288 with 1 Axes>"
      ]
     },
     "metadata": {
      "needs_background": "light"
     },
     "output_type": "display_data"
    }
   ],
   "source": [
    "X = pivot_clusters[['health', 'culture']].values\n",
    "get_best_cluster(X)"
   ]
  },
  {
   "cell_type": "code",
   "execution_count": 53,
   "metadata": {},
   "outputs": [
    {
     "data": {
      "image/png": "[encoded data removed]",
      "text/plain": [
       "<Figure size 432x288 with 1 Axes>"
      ]
     },
     "metadata": {
      "needs_background": "light"
     },
     "output_type": "display_data"
    }
   ],
   "source": [
    "cluster_plot(X, 2, \"Clusters of tweets in health and culture groups\", \"health tweets\", \"culture tweets\")"
   ]
  },
  {
   "cell_type": "markdown",
   "metadata": {},
   "source": [
    "## Time Series Analysis"
   ]
  },
  {
   "cell_type": "code",
   "execution_count": 54,
   "metadata": {},
   "outputs": [],
   "source": [
    "'''Get tweets full details: must get ~ time stamp'''\n",
    "def pivoted_df_with_ts(paths):\n",
    "    global dataframes\n",
    "    dataframes = []\n",
    "    for path in paths:\n",
    "        frame = pd.read_csv(path,lineterminator='\\n')\n",
    "        df = pd.DataFrame()\n",
    "        frame['likes'].fillna(0,inplace=True)\n",
    "        frame['retweet_count'].fillna(0,inplace=True)\n",
    "        frame['created_at']= pd.to_datetime(frame['created_at'], dayfirst=True, errors='coerce').dropna()\n",
    "        \n",
    "        df['tweets'] = frame['tweet']\n",
    "        df['likes'] = frame['likes'].apply(lambda x: 0 if isinstance(x,str) else x)\n",
    "        df['retweets'] = frame['retweet_count'].apply(lambda x: int(round(x)) if isinstance(x,(int,float)) else 0)\n",
    "        df['screen_name'] = frame['user_screen_name']\n",
    "        df['created_at'] = frame['created_at']\n",
    "        dataframes.append(df)\n",
    "        \n",
    "    mega = pd.concat(dataframes)\n",
    "    return mega"
   ]
  },
  {
   "cell_type": "code",
   "execution_count": 55,
   "metadata": {},
   "outputs": [
    {
     "data": {
      "text/plain": [
       "(1747805, 5)"
      ]
     },
     "execution_count": 55,
     "metadata": {},
     "output_type": "execute_result"
    }
   ],
   "source": [
    "gc.collect()\n",
    "tweets = pivoted_df_with_ts(file_paths)\n",
    "tweets.shape"
   ]
  },
  {
   "cell_type": "code",
   "execution_count": 57,
   "metadata": {},
   "outputs": [
    {
     "data": {
      "text/html": [
       "<div>\n",
       "<style scoped>\n",
       "    .dataframe tbody tr th:only-of-type {\n",
       "        vertical-align: middle;\n",
       "    }\n",
       "\n",
       "    .dataframe tbody tr th {\n",
       "        vertical-align: top;\n",
       "    }\n",
       "\n",
       "    .dataframe thead th {\n",
       "        text-align: right;\n",
       "    }\n",
       "</style>\n",
       "<table border=\"1\" class=\"dataframe\">\n",
       "  <thead>\n",
       "    <tr style=\"text-align: right;\">\n",
       "      <th></th>\n",
       "      <th>tweets</th>\n",
       "      <th>likes</th>\n",
       "      <th>retweets</th>\n",
       "      <th>screen_name</th>\n",
       "      <th>created_at</th>\n",
       "      <th>scores</th>\n",
       "    </tr>\n",
       "  </thead>\n",
       "  <tbody>\n",
       "    <tr>\n",
       "      <th>10623</th>\n",
       "      <td>The cowards at Twitter locked me out for expos...</td>\n",
       "      <td>143454.0</td>\n",
       "      <td>63473</td>\n",
       "      <td>RealJamesWoods</td>\n",
       "      <td>2020-10-15 17:09:02</td>\n",
       "      <td>206927.0</td>\n",
       "    </tr>\n",
       "    <tr>\n",
       "      <th>20432</th>\n",
       "      <td>Tonight a woman in the audience of Trump's tow...</td>\n",
       "      <td>165702.0</td>\n",
       "      <td>17652</td>\n",
       "      <td>BetteMidler</td>\n",
       "      <td>2020-10-16 03:17:29</td>\n",
       "      <td>183354.0</td>\n",
       "    </tr>\n",
       "    <tr>\n",
       "      <th>298112</th>\n",
       "      <td>Good morning PENNSYLVANIA! I’m so excited to s...</td>\n",
       "      <td>126772.0</td>\n",
       "      <td>14024</td>\n",
       "      <td>ladygaga</td>\n",
       "      <td>2020-11-02 15:25:15</td>\n",
       "      <td>140796.0</td>\n",
       "    </tr>\n",
       "    <tr>\n",
       "      <th>536374</th>\n",
       "      <td>America Assembled!🇺🇸🎉\\n\\n@JoeBiden @KamalaHarr...</td>\n",
       "      <td>74528.0</td>\n",
       "      <td>20615</td>\n",
       "      <td>JohnHPiette</td>\n",
       "      <td>2020-11-06 16:31:06</td>\n",
       "      <td>95143.0</td>\n",
       "    </tr>\n",
       "    <tr>\n",
       "      <th>786530</th>\n",
       "      <td>America Assembled!🇺🇸🎉\\n\\n@JoeBiden @KamalaHarr...</td>\n",
       "      <td>74084.0</td>\n",
       "      <td>20491</td>\n",
       "      <td>JohnHPiette</td>\n",
       "      <td>2020-11-06 16:31:06</td>\n",
       "      <td>94575.0</td>\n",
       "    </tr>\n",
       "  </tbody>\n",
       "</table>\n",
       "</div>"
      ],
      "text/plain": [
       "                                                   tweets     likes  retweets  \\\n",
       "10623   The cowards at Twitter locked me out for expos...  143454.0     63473   \n",
       "20432   Tonight a woman in the audience of Trump's tow...  165702.0     17652   \n",
       "298112  Good morning PENNSYLVANIA! I’m so excited to s...  126772.0     14024   \n",
       "536374  America Assembled!🇺🇸🎉\\n\\n@JoeBiden @KamalaHarr...   74528.0     20615   \n",
       "786530  America Assembled!🇺🇸🎉\\n\\n@JoeBiden @KamalaHarr...   74084.0     20491   \n",
       "\n",
       "           screen_name          created_at    scores  \n",
       "10623   RealJamesWoods 2020-10-15 17:09:02  206927.0  \n",
       "20432      BetteMidler 2020-10-16 03:17:29  183354.0  \n",
       "298112        ladygaga 2020-11-02 15:25:15  140796.0  \n",
       "536374     JohnHPiette 2020-11-06 16:31:06   95143.0  \n",
       "786530     JohnHPiette 2020-11-06 16:31:06   94575.0  "
      ]
     },
     "execution_count": 57,
     "metadata": {},
     "output_type": "execute_result"
    }
   ],
   "source": [
    "'''create a scores column, sort values by scores, do analysis on top 500 tweets'''\n",
    "\n",
    "tweets['scores'] = tweets['likes'] + tweets['retweets']\n",
    "top_tweets = tweets.sort_values(by = 'scores', ascending = False)\n",
    "# top_tweets = top_tweets.head(500)\n",
    "top_tweets.head()"
   ]
  },
  {
   "cell_type": "code",
   "execution_count": 58,
   "metadata": {},
   "outputs": [],
   "source": [
    "# print('all tweets tweeps:', len(tweets['screen_name'].unique()))\n",
    "# print('top 500 tweets tweeps', len(top_tweets['screen_name'].unique()))"
   ]
  },
  {
   "cell_type": "markdown",
   "metadata": {},
   "source": [
    "* plan is to explore the trends in tweets volumes, maybe the tweets can be grouped into time stamps, then see the transition of volume of these tweets from one time to another."
   ]
  },
  {
   "cell_type": "code",
   "execution_count": 59,
   "metadata": {},
   "outputs": [],
   "source": [
    "'''explore the time stamps and create groups'''\n",
    "top_tweets['created_at'] = pd.to_datetime(top_tweets['created_at'])"
   ]
  },
  {
   "cell_type": "code",
   "execution_count": 60,
   "metadata": {},
   "outputs": [
    {
     "data": {
      "text/html": [
       "<div>\n",
       "<style scoped>\n",
       "    .dataframe tbody tr th:only-of-type {\n",
       "        vertical-align: middle;\n",
       "    }\n",
       "\n",
       "    .dataframe tbody tr th {\n",
       "        vertical-align: top;\n",
       "    }\n",
       "\n",
       "    .dataframe thead th {\n",
       "        text-align: right;\n",
       "    }\n",
       "</style>\n",
       "<table border=\"1\" class=\"dataframe\">\n",
       "  <thead>\n",
       "    <tr style=\"text-align: right;\">\n",
       "      <th></th>\n",
       "      <th>tweets</th>\n",
       "      <th>likes</th>\n",
       "      <th>retweets</th>\n",
       "      <th>screen_name</th>\n",
       "      <th>created_at</th>\n",
       "      <th>scores</th>\n",
       "    </tr>\n",
       "  </thead>\n",
       "  <tbody>\n",
       "    <tr>\n",
       "      <th>10623</th>\n",
       "      <td>The cowards at Twitter locked me out for expos...</td>\n",
       "      <td>143454.0</td>\n",
       "      <td>63473</td>\n",
       "      <td>RealJamesWoods</td>\n",
       "      <td>2020-10-15 17:09:02</td>\n",
       "      <td>206927.0</td>\n",
       "    </tr>\n",
       "    <tr>\n",
       "      <th>20432</th>\n",
       "      <td>Tonight a woman in the audience of Trump's tow...</td>\n",
       "      <td>165702.0</td>\n",
       "      <td>17652</td>\n",
       "      <td>BetteMidler</td>\n",
       "      <td>2020-10-16 03:17:29</td>\n",
       "      <td>183354.0</td>\n",
       "    </tr>\n",
       "    <tr>\n",
       "      <th>298112</th>\n",
       "      <td>Good morning PENNSYLVANIA! I’m so excited to s...</td>\n",
       "      <td>126772.0</td>\n",
       "      <td>14024</td>\n",
       "      <td>ladygaga</td>\n",
       "      <td>2020-11-02 15:25:15</td>\n",
       "      <td>140796.0</td>\n",
       "    </tr>\n",
       "    <tr>\n",
       "      <th>536374</th>\n",
       "      <td>America Assembled!🇺🇸🎉\\n\\n@JoeBiden @KamalaHarr...</td>\n",
       "      <td>74528.0</td>\n",
       "      <td>20615</td>\n",
       "      <td>JohnHPiette</td>\n",
       "      <td>2020-11-06 16:31:06</td>\n",
       "      <td>95143.0</td>\n",
       "    </tr>\n",
       "    <tr>\n",
       "      <th>786530</th>\n",
       "      <td>America Assembled!🇺🇸🎉\\n\\n@JoeBiden @KamalaHarr...</td>\n",
       "      <td>74084.0</td>\n",
       "      <td>20491</td>\n",
       "      <td>JohnHPiette</td>\n",
       "      <td>2020-11-06 16:31:06</td>\n",
       "      <td>94575.0</td>\n",
       "    </tr>\n",
       "  </tbody>\n",
       "</table>\n",
       "</div>"
      ],
      "text/plain": [
       "                                                   tweets     likes  retweets  \\\n",
       "10623   The cowards at Twitter locked me out for expos...  143454.0     63473   \n",
       "20432   Tonight a woman in the audience of Trump's tow...  165702.0     17652   \n",
       "298112  Good morning PENNSYLVANIA! I’m so excited to s...  126772.0     14024   \n",
       "536374  America Assembled!🇺🇸🎉\\n\\n@JoeBiden @KamalaHarr...   74528.0     20615   \n",
       "786530  America Assembled!🇺🇸🎉\\n\\n@JoeBiden @KamalaHarr...   74084.0     20491   \n",
       "\n",
       "           screen_name          created_at    scores  \n",
       "10623   RealJamesWoods 2020-10-15 17:09:02  206927.0  \n",
       "20432      BetteMidler 2020-10-16 03:17:29  183354.0  \n",
       "298112        ladygaga 2020-11-02 15:25:15  140796.0  \n",
       "536374     JohnHPiette 2020-11-06 16:31:06   95143.0  \n",
       "786530     JohnHPiette 2020-11-06 16:31:06   94575.0  "
      ]
     },
     "execution_count": 60,
     "metadata": {},
     "output_type": "execute_result"
    }
   ],
   "source": [
    "top_tweets.head()"
   ]
  },
  {
   "cell_type": "code",
   "execution_count": 61,
   "metadata": {},
   "outputs": [
    {
     "name": "stdout",
     "output_type": "stream",
     "text": [
      "<class 'pandas.core.frame.DataFrame'>\n",
      "Int64Index: 1747805 entries, 10623 to 776885\n",
      "Data columns (total 6 columns):\n",
      " #   Column       Dtype         \n",
      "---  ------       -----         \n",
      " 0   tweets       object        \n",
      " 1   likes        float64       \n",
      " 2   retweets     int64         \n",
      " 3   screen_name  object        \n",
      " 4   created_at   datetime64[ns]\n",
      " 5   scores       float64       \n",
      "dtypes: datetime64[ns](1), float64(2), int64(1), object(2)\n",
      "memory usage: 93.3+ MB\n"
     ]
    }
   ],
   "source": [
    "top_tweets.info()"
   ]
  },
  {
   "cell_type": "code",
   "execution_count": 62,
   "metadata": {},
   "outputs": [
    {
     "data": {
      "text/plain": [
       "count                          1747805\n",
       "mean     2020-10-31 21:19:01.892717056\n",
       "min                2020-10-15 00:00:01\n",
       "25%                2020-10-26 10:39:55\n",
       "50%                2020-11-03 23:20:10\n",
       "75%                2020-11-06 14:56:24\n",
       "max                2020-11-08 23:59:58\n",
       "Name: created_at, dtype: object"
      ]
     },
     "execution_count": 62,
     "metadata": {},
     "output_type": "execute_result"
    }
   ],
   "source": [
    "top_tweets['created_at'].describe(datetime_is_numeric=True)"
   ]
  },
  {
   "cell_type": "markdown",
   "metadata": {},
   "source": [
    "* Earliest tweet: ***15th October 2020***\n",
    "* Latest tweet ***11th November 2020***\n",
    "* day with highest number ***8th November 2020***"
   ]
  },
  {
   "cell_type": "code",
   "execution_count": 63,
   "metadata": {},
   "outputs": [],
   "source": [
    "'''get the years, months and day columns'''\n",
    "\n",
    "top_tweets = top_tweets.set_index('created_at')\n",
    "\n",
    "# Add columns with year, month, and weekday name\n",
    "top_tweets.index\n",
    "top_tweets['Year'] = top_tweets.index.year\n",
    "top_tweets['Month'] = top_tweets.index.month\n",
    "top_tweets['Weekday'] = top_tweets.index.day_name()\n",
    "\n",
    "\n",
    "# top_tweets.head()"
   ]
  },
  {
   "cell_type": "markdown",
   "metadata": {},
   "source": [
    "### 1. Weekday Analysis overall tweets"
   ]
  },
  {
   "cell_type": "code",
   "execution_count": 64,
   "metadata": {},
   "outputs": [
    {
     "data": {
      "text/html": [
       "<div>\n",
       "<style scoped>\n",
       "    .dataframe tbody tr th:only-of-type {\n",
       "        vertical-align: middle;\n",
       "    }\n",
       "\n",
       "    .dataframe tbody tr th {\n",
       "        vertical-align: top;\n",
       "    }\n",
       "\n",
       "    .dataframe thead th {\n",
       "        text-align: right;\n",
       "    }\n",
       "</style>\n",
       "<table border=\"1\" class=\"dataframe\">\n",
       "  <thead>\n",
       "    <tr style=\"text-align: right;\">\n",
       "      <th></th>\n",
       "      <th>tweets</th>\n",
       "    </tr>\n",
       "    <tr>\n",
       "      <th>Weekday</th>\n",
       "      <th></th>\n",
       "    </tr>\n",
       "  </thead>\n",
       "  <tbody>\n",
       "    <tr>\n",
       "      <th>Monday</th>\n",
       "      <td>138245</td>\n",
       "    </tr>\n",
       "    <tr>\n",
       "      <th>Tuesday</th>\n",
       "      <td>176292</td>\n",
       "    </tr>\n",
       "    <tr>\n",
       "      <th>Wednesday</th>\n",
       "      <td>302839</td>\n",
       "    </tr>\n",
       "    <tr>\n",
       "      <th>Thursday</th>\n",
       "      <td>224822</td>\n",
       "    </tr>\n",
       "    <tr>\n",
       "      <th>Friday</th>\n",
       "      <td>312308</td>\n",
       "    </tr>\n",
       "    <tr>\n",
       "      <th>Saturday</th>\n",
       "      <td>352034</td>\n",
       "    </tr>\n",
       "    <tr>\n",
       "      <th>Sunday</th>\n",
       "      <td>241265</td>\n",
       "    </tr>\n",
       "  </tbody>\n",
       "</table>\n",
       "</div>"
      ],
      "text/plain": [
       "           tweets\n",
       "Weekday          \n",
       "Monday     138245\n",
       "Tuesday    176292\n",
       "Wednesday  302839\n",
       "Thursday   224822\n",
       "Friday     312308\n",
       "Saturday   352034\n",
       "Sunday     241265"
      ]
     },
     "execution_count": 64,
     "metadata": {},
     "output_type": "execute_result"
    }
   ],
   "source": [
    "# week day analysis\n",
    "cats = [ 'Monday', 'Tuesday', 'Wednesday', 'Thursday', 'Friday', 'Saturday', 'Sunday']\n",
    "weeks_df = top_tweets.groupby(['Weekday']).count().reindex(cats) \n",
    "# weeks_df = top_tweets.groupby(['Weekday']).count() #count number of tweets, count is a string function, so let's drop the integers.\n",
    "weeks_df = weeks_df[['tweets']]\n",
    "weeks_df"
   ]
  },
  {
   "cell_type": "code",
   "execution_count": 65,
   "metadata": {},
   "outputs": [
    {
     "data": {
      "text/plain": [
       "Text(0, 0.5, 'Number of tweets')"
      ]
     },
     "execution_count": 65,
     "metadata": {},
     "output_type": "execute_result"
    },
    {
     "data": {
      "image/png": "[encoded data removed]",
      "text/plain": [
       "<Figure size 864x720 with 1 Axes>"
      ]
     },
     "metadata": {
      "needs_background": "light"
     },
     "output_type": "display_data"
    }
   ],
   "source": [
    "sorter = ['Monday', 'Tuesday', 'Wednesday', 'Thursday', 'Friday', 'Saturday', 'Sunday']\n",
    "sorterIndex = dict(zip(sorter,range(len(sorter))))\n",
    "\n",
    "weeks_df['Day_id'] = weeks_df.index\n",
    "weeks_df['Day_id'] = weeks_df['Day_id'].map(sorterIndex)\n",
    "weeks_df.sort_values('Day_id', inplace=True)\n",
    "\n",
    "\n",
    "# now lets see some of the busy days of the week.\n",
    "plt.figure(figsize=(12,10))\n",
    "sns.lineplot(x = weeks_df.Day_id, y = weeks_df.tweets)\n",
    "plt.title('A lineplot plot showing tweets distribution across the weeks')\n",
    "plt.xticks(rotation=45)\n",
    "plt.xlabel('day of the week')\n",
    "plt.ylabel('Number of tweets')"
   ]
  },
  {
   "cell_type": "markdown",
   "metadata": {},
   "source": [
    "\n",
    "* Highest number of tweets: ***Saturday***\n",
    "* Lowest tweet rate: ***Monday***\n",
    "\n",
    "The trend generally: Lowest tweeting activity on Monday, then the frequency increases slowly upto Tuesday where the max is recorded then gradual droping to Thurday.\n",
    "\n",
    "The spike in Tuesday is as a result of biasness due to the day I scrapped the tweets which was on Wednesday. Thus by default the highest number of tweets will be Tuesday's, and lowest will be Thursday in the week flow: Tuesday, Monday, Sunday, Saturday, Friday, Thursday"
   ]
  },
  {
   "cell_type": "markdown",
   "metadata": {},
   "source": [
    "### 2. Monthly Analysis"
   ]
  },
  {
   "cell_type": "code",
   "execution_count": 66,
   "metadata": {},
   "outputs": [
    {
     "data": {
      "text/html": [
       "<div>\n",
       "<style scoped>\n",
       "    .dataframe tbody tr th:only-of-type {\n",
       "        vertical-align: middle;\n",
       "    }\n",
       "\n",
       "    .dataframe tbody tr th {\n",
       "        vertical-align: top;\n",
       "    }\n",
       "\n",
       "    .dataframe thead th {\n",
       "        text-align: right;\n",
       "    }\n",
       "</style>\n",
       "<table border=\"1\" class=\"dataframe\">\n",
       "  <thead>\n",
       "    <tr style=\"text-align: right;\">\n",
       "      <th></th>\n",
       "      <th>tweets</th>\n",
       "    </tr>\n",
       "    <tr>\n",
       "      <th>Month</th>\n",
       "      <th></th>\n",
       "    </tr>\n",
       "  </thead>\n",
       "  <tbody>\n",
       "    <tr>\n",
       "      <th>10</th>\n",
       "      <td>649741</td>\n",
       "    </tr>\n",
       "    <tr>\n",
       "      <th>11</th>\n",
       "      <td>1098064</td>\n",
       "    </tr>\n",
       "  </tbody>\n",
       "</table>\n",
       "</div>"
      ],
      "text/plain": [
       "        tweets\n",
       "Month         \n",
       "10      649741\n",
       "11     1098064"
      ]
     },
     "execution_count": 66,
     "metadata": {},
     "output_type": "execute_result"
    }
   ],
   "source": [
    "months_df = top_tweets.groupby(['Month']).count()\n",
    "# weeks_df = top_tweets.groupby(['Weekday']).count() #count number of tweets, count is a string function, so let's drop the integers.\n",
    "months_df = months_df[['tweets']]\n",
    "months_df"
   ]
  },
  {
   "cell_type": "code",
   "execution_count": 67,
   "metadata": {},
   "outputs": [
    {
     "data": {
      "text/plain": [
       "Text(0, 0.5, 'Number of tweets')"
      ]
     },
     "execution_count": 67,
     "metadata": {},
     "output_type": "execute_result"
    },
    {
     "data": {
      "image/png": "[encoded data removed]",
      "text/plain": [
       "<Figure size 864x720 with 1 Axes>"
      ]
     },
     "metadata": {
      "needs_background": "light"
     },
     "output_type": "display_data"
    }
   ],
   "source": [
    "# now lets see some of the busy Months.\n",
    "plt.figure(figsize=(12,10))\n",
    "sns.barplot(x = months_df.index, y = months_df.tweets)\n",
    "plt.title('A barplot plot showing tweets distribution across the months')\n",
    "plt.xticks(rotation=45)\n",
    "plt.xlabel('Month')\n",
    "plt.ylabel('Number of tweets')"
   ]
  },
  {
   "cell_type": "markdown",
   "metadata": {},
   "source": [
    "Most of the tweets are around July. This is a biased data issue. The tweets are each users' most recent 500 tweets, so by default most tweets are from July, the current month we're in. \n",
    "\n",
    "The trend explanation is the same as in the week days analysis."
   ]
  },
  {
   "cell_type": "code",
   "execution_count": null,
   "metadata": {},
   "outputs": [],
   "source": []
  }
 ],
 "metadata": {
  "kernelspec": {
   "display_name": "Python 3",
   "language": "python",
   "name": "python3"
  },
  "language_info": {
   "codemirror_mode": {
    "name": "ipython",
    "version": 3
   },
   "file_extension": ".py",
   "mimetype": "text/x-python",
   "name": "python",
   "nbconvert_exporter": "python",
   "pygments_lexer": "ipython3",
   "version": "3.8.8"
  }
 },
 "nbformat": 4,
 "nbformat_minor": 4
}
